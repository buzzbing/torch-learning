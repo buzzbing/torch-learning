{
  "nbformat": 4,
  "nbformat_minor": 0,
  "metadata": {
    "colab": {
      "provenance": []
    },
    "kernelspec": {
      "name": "python3",
      "display_name": "Python 3"
    },
    "language_info": {
      "name": "python"
    }
  },
  "cells": [
    {
      "cell_type": "code",
      "execution_count": 1,
      "metadata": {
        "id": "VM-NMCO2fpPA"
      },
      "outputs": [],
      "source": [
        "import torch"
      ]
    },
    {
      "cell_type": "code",
      "source": [
        "torch.__version__"
      ],
      "metadata": {
        "colab": {
          "base_uri": "https://localhost:8080/",
          "height": 36
        },
        "id": "4D1iYUX1f4DM",
        "outputId": "580960e4-65c2-4348-c6f2-69af94a19a75"
      },
      "execution_count": 2,
      "outputs": [
        {
          "output_type": "execute_result",
          "data": {
            "text/plain": [
              "'2.3.0+cu121'"
            ],
            "application/vnd.google.colaboratory.intrinsic+json": {
              "type": "string"
            }
          },
          "metadata": {},
          "execution_count": 2
        }
      ]
    },
    {
      "cell_type": "markdown",
      "source": [
        "A single number is scalar in torch with dimension equals to 0."
      ],
      "metadata": {
        "id": "dSiGh3AIgkUX"
      }
    },
    {
      "cell_type": "code",
      "source": [
        "#scalar\n",
        "t1 = torch.tensor(1)\n",
        "print('scalar t1: ', t1)\n",
        "print('t1.ndim(): ',t1.ndim)\n",
        "print('t1.item(): ',t1.item())"
      ],
      "metadata": {
        "colab": {
          "base_uri": "https://localhost:8080/"
        },
        "id": "T7mPiu_kf_Sr",
        "outputId": "6f903da4-2768-4877-a5ae-b863d474229f"
      },
      "execution_count": 3,
      "outputs": [
        {
          "output_type": "stream",
          "name": "stdout",
          "text": [
            "scalar t1:  tensor(1)\n",
            "t1.ndim():  0\n",
            "t1.item():  1\n"
          ]
        }
      ]
    },
    {
      "cell_type": "code",
      "source": [
        "#vector\n",
        "t2 = torch.tensor([1,2])\n",
        "print('vector t2: ',t2)\n",
        "print('t2.ndim: ', t2.ndim)\n",
        "print('t2.shape: ', t2.shape)\n",
        "# .item() is used for single value retrieval only\n",
        "print('t2[0].item(): ', t2[0].item())\n"
      ],
      "metadata": {
        "colab": {
          "base_uri": "https://localhost:8080/"
        },
        "id": "HZJt8Ja9gaME",
        "outputId": "08fe18e0-26f7-4973-8b3a-ac362473ef11"
      },
      "execution_count": 4,
      "outputs": [
        {
          "output_type": "stream",
          "name": "stdout",
          "text": [
            "vector t2:  tensor([1, 2])\n",
            "t2.ndim:  1\n",
            "t2.shape:  torch.Size([2])\n",
            "t2[0].item():  1\n"
          ]
        }
      ]
    },
    {
      "cell_type": "code",
      "source": [
        "#matrix\n",
        "\n",
        "T3 = torch.tensor([[1,2],[3,4]])\n",
        "print('matrix T3: \\n', T3)"
      ],
      "metadata": {
        "colab": {
          "base_uri": "https://localhost:8080/"
        },
        "id": "eJMb9P2nhb7U",
        "outputId": "638bb402-aa63-4b5f-b5e8-deaaed59d210"
      },
      "execution_count": 5,
      "outputs": [
        {
          "output_type": "stream",
          "name": "stdout",
          "text": [
            "matrix T3: \n",
            " tensor([[1, 2],\n",
            "        [3, 4]])\n"
          ]
        }
      ]
    },
    {
      "cell_type": "code",
      "source": [
        "print('T3.shape: ',T3.shape)\n",
        "print('T3.ndim: ', T3.ndim)"
      ],
      "metadata": {
        "colab": {
          "base_uri": "https://localhost:8080/"
        },
        "id": "vqbcEU7WiA3w",
        "outputId": "9b006dbc-dde3-44ce-f891-ea25d712744c"
      },
      "execution_count": 6,
      "outputs": [
        {
          "output_type": "stream",
          "name": "stdout",
          "text": [
            "T3.shape:  torch.Size([2, 2])\n",
            "T3.ndim:  2\n"
          ]
        }
      ]
    },
    {
      "cell_type": "markdown",
      "source": [
        "In practice, you'll often see scalars and vectors denoted as lowercase letters such as y or a. And matrices and tensors denoted as uppercase letters such as X or W."
      ],
      "metadata": {
        "id": "BUvOcJzJi14P"
      }
    },
    {
      "cell_type": "code",
      "source": [
        "random_tensor = torch.rand(size=(3,4))\n",
        "print(random_tensor)\n",
        "print(random_tensor.dtype)"
      ],
      "metadata": {
        "colab": {
          "base_uri": "https://localhost:8080/"
        },
        "id": "5MqV55QRiSzG",
        "outputId": "03b62eb7-162c-4f12-c72c-aab7ff53380e"
      },
      "execution_count": 7,
      "outputs": [
        {
          "output_type": "stream",
          "name": "stdout",
          "text": [
            "tensor([[0.5276, 0.8248, 0.6846, 0.5120],\n",
            "        [0.9566, 0.6348, 0.7865, 0.2712],\n",
            "        [0.4845, 0.3951, 0.0515, 0.4798]])\n",
            "torch.float32\n"
          ]
        }
      ]
    },
    {
      "cell_type": "code",
      "source": [
        "random_image_tensor = torch.rand(size=(224,224,3))\n",
        "print(random_image_tensor)"
      ],
      "metadata": {
        "colab": {
          "base_uri": "https://localhost:8080/"
        },
        "id": "C1BNV92-mleT",
        "outputId": "78bd8cc6-1def-47ea-aac9-d821bbc97996"
      },
      "execution_count": 8,
      "outputs": [
        {
          "output_type": "stream",
          "name": "stdout",
          "text": [
            "tensor([[[0.7628, 0.6723, 0.5929],\n",
            "         [0.6718, 0.9217, 0.3290],\n",
            "         [0.1752, 0.5805, 0.3247],\n",
            "         ...,\n",
            "         [0.7247, 0.5144, 0.6877],\n",
            "         [0.2884, 0.7944, 0.9584],\n",
            "         [0.8767, 0.4606, 0.7684]],\n",
            "\n",
            "        [[0.7677, 0.7884, 0.5566],\n",
            "         [0.0201, 0.7761, 0.0115],\n",
            "         [0.0757, 0.4230, 0.8204],\n",
            "         ...,\n",
            "         [0.6565, 0.5923, 0.1714],\n",
            "         [0.4706, 0.7387, 0.0052],\n",
            "         [0.3370, 0.1510, 0.9860]],\n",
            "\n",
            "        [[0.7168, 0.4490, 0.9374],\n",
            "         [0.0493, 0.9386, 0.8171],\n",
            "         [0.3961, 0.3049, 0.4552],\n",
            "         ...,\n",
            "         [0.5328, 0.9379, 0.3507],\n",
            "         [0.1055, 0.8140, 0.4142],\n",
            "         [0.5447, 0.8184, 0.2756]],\n",
            "\n",
            "        ...,\n",
            "\n",
            "        [[0.7677, 0.5555, 0.3397],\n",
            "         [0.7369, 0.5130, 0.8108],\n",
            "         [0.9261, 0.6497, 0.3772],\n",
            "         ...,\n",
            "         [0.1039, 0.2763, 0.4544],\n",
            "         [0.0511, 0.2314, 0.8079],\n",
            "         [0.3131, 0.2480, 0.3559]],\n",
            "\n",
            "        [[0.4226, 0.0615, 0.6634],\n",
            "         [0.6891, 0.1445, 0.2582],\n",
            "         [0.7546, 0.7734, 0.2522],\n",
            "         ...,\n",
            "         [0.9702, 0.1311, 0.4555],\n",
            "         [0.0999, 0.9445, 0.9856],\n",
            "         [0.5545, 0.4224, 0.3011]],\n",
            "\n",
            "        [[0.3841, 0.4547, 0.4554],\n",
            "         [0.0336, 0.6048, 0.2543],\n",
            "         [0.6086, 0.2379, 0.1430],\n",
            "         ...,\n",
            "         [0.1149, 0.7011, 0.1823],\n",
            "         [0.7586, 0.4330, 0.0894],\n",
            "         [0.3200, 0.1457, 0.5891]]])\n"
          ]
        }
      ]
    },
    {
      "cell_type": "code",
      "source": [
        "random_image_tensor.ndim, random_image_tensor.shape"
      ],
      "metadata": {
        "colab": {
          "base_uri": "https://localhost:8080/"
        },
        "id": "6D-Nuw76mxTz",
        "outputId": "d1ed739d-5b79-4dc6-d0f4-400c959c653c"
      },
      "execution_count": 9,
      "outputs": [
        {
          "output_type": "execute_result",
          "data": {
            "text/plain": [
              "(3, torch.Size([224, 224, 3]))"
            ]
          },
          "metadata": {},
          "execution_count": 9
        }
      ]
    },
    {
      "cell_type": "code",
      "source": [
        "#zero tensor\n",
        "\n",
        "zeros = torch.zeros(size=(2,3))\n",
        "zeros,zeros.dtype"
      ],
      "metadata": {
        "colab": {
          "base_uri": "https://localhost:8080/"
        },
        "id": "OqOqG91dnFNT",
        "outputId": "470ac3f1-c3ab-4e3f-8f63-5af7a4da082b"
      },
      "execution_count": 10,
      "outputs": [
        {
          "output_type": "execute_result",
          "data": {
            "text/plain": [
              "(tensor([[0., 0., 0.],\n",
              "         [0., 0., 0.]]),\n",
              " torch.float32)"
            ]
          },
          "metadata": {},
          "execution_count": 10
        }
      ]
    },
    {
      "cell_type": "code",
      "source": [
        "#ones tensor\n",
        "ones = torch.ones(size=(2,3))\n",
        "ones, ones.dtype"
      ],
      "metadata": {
        "colab": {
          "base_uri": "https://localhost:8080/"
        },
        "id": "-iiIdTrdniQv",
        "outputId": "c56c3b62-b9ac-46b7-ac50-b1e56a6a1888"
      },
      "execution_count": 11,
      "outputs": [
        {
          "output_type": "execute_result",
          "data": {
            "text/plain": [
              "(tensor([[1., 1., 1.],\n",
              "         [1., 1., 1.]]),\n",
              " torch.float32)"
            ]
          },
          "metadata": {},
          "execution_count": 11
        }
      ]
    },
    {
      "cell_type": "code",
      "source": [
        "# ranged tensor [start,end)\n",
        "ranged_tensor = torch.arange(start=2, end=10, step=1)\n",
        "ranged_tensor"
      ],
      "metadata": {
        "colab": {
          "base_uri": "https://localhost:8080/"
        },
        "id": "i63SjRy0nqPL",
        "outputId": "71389cb3-8204-4514-c958-c79e21959fa3"
      },
      "execution_count": 12,
      "outputs": [
        {
          "output_type": "execute_result",
          "data": {
            "text/plain": [
              "tensor([2, 3, 4, 5, 6, 7, 8, 9])"
            ]
          },
          "metadata": {},
          "execution_count": 12
        }
      ]
    },
    {
      "cell_type": "code",
      "source": [
        "torch.arange(start=3, end=15, step=3)"
      ],
      "metadata": {
        "colab": {
          "base_uri": "https://localhost:8080/"
        },
        "id": "naCku2kmn1Cx",
        "outputId": "e7ffb422-1bc5-4edb-ed8a-49a035af7da5"
      },
      "execution_count": 13,
      "outputs": [
        {
          "output_type": "execute_result",
          "data": {
            "text/plain": [
              "tensor([ 3,  6,  9, 12])"
            ]
          },
          "metadata": {},
          "execution_count": 13
        }
      ]
    },
    {
      "cell_type": "code",
      "source": [
        "# Sometimes you might want one tensor of a certain type with the same shape as another tensor.\n",
        "\n",
        "zero_like = torch.zeros_like(input = ranged_tensor )\n",
        "zero_like"
      ],
      "metadata": {
        "colab": {
          "base_uri": "https://localhost:8080/"
        },
        "id": "Ltb30JzeoQeq",
        "outputId": "5296f1a0-b24d-479d-c791-778003e89ffc"
      },
      "execution_count": 14,
      "outputs": [
        {
          "output_type": "execute_result",
          "data": {
            "text/plain": [
              "tensor([0, 0, 0, 0, 0, 0, 0, 0])"
            ]
          },
          "metadata": {},
          "execution_count": 14
        }
      ]
    },
    {
      "cell_type": "markdown",
      "source": [
        "#### Torch Tensor Datatypes\n",
        "Generally if you see torch.cuda anywhere, the tensor is being used for GPU (since Nvidia GPUs use a computing toolkit called CUDA).\n",
        "\n",
        "The most common type (and generally the default) is torch.float32 or torch.float.\n",
        "\n",
        "This is referred to as \"32-bit floating point\".\n",
        "\n",
        "But there's also 16-bit floating point (torch.float16 or torch.half) and 64-bit floating point (torch.float64 or torch.double).\n",
        "\n"
      ],
      "metadata": {
        "id": "_SES_0U1o_Xk"
      }
    },
    {
      "cell_type": "code",
      "source": [
        "# Default datatype for tensors is float32\n",
        "\n",
        "f32_tensor = torch.tensor([1.0,2.3, 4.5],\n",
        "                          dtype=None, #default float32\n",
        "                          device=None, #default cpu\n",
        "                          requires_grad=False)# Default datatype for tensors is float32\n",
        "print(f32_tensor.shape,'--', f32_tensor.dtype,'--', f32_tensor.device)\n",
        "f32_tensor"
      ],
      "metadata": {
        "id": "FM-jzRKoo19M",
        "colab": {
          "base_uri": "https://localhost:8080/"
        },
        "outputId": "47187ac0-3ac2-4e7f-a136-ba7476d877ad"
      },
      "execution_count": 15,
      "outputs": [
        {
          "output_type": "stream",
          "name": "stdout",
          "text": [
            "torch.Size([3]) -- torch.float32 -- cpu\n"
          ]
        },
        {
          "output_type": "execute_result",
          "data": {
            "text/plain": [
              "tensor([1.0000, 2.3000, 4.5000])"
            ]
          },
          "metadata": {},
          "execution_count": 15
        }
      ]
    },
    {
      "cell_type": "code",
      "source": [
        "f16 = torch.tensor([1.0,2.3,4.5], dtype=torch.float16)\n",
        "f16"
      ],
      "metadata": {
        "colab": {
          "base_uri": "https://localhost:8080/"
        },
        "id": "q7LNLBxHp_lZ",
        "outputId": "d19c904a-acad-4da3-fd84-126c7df6cd54"
      },
      "execution_count": 16,
      "outputs": [
        {
          "output_type": "execute_result",
          "data": {
            "text/plain": [
              "tensor([1.0000, 2.3008, 4.5000], dtype=torch.float16)"
            ]
          },
          "metadata": {},
          "execution_count": 16
        }
      ]
    },
    {
      "cell_type": "markdown",
      "source": [
        "General errors in pytorch include one of the three errors\n",
        "\n",
        "- tensor shape\n",
        "- tensor datatype\n",
        "- tensor device"
      ],
      "metadata": {
        "id": "iXRMkE4Vq27i"
      }
    },
    {
      "cell_type": "markdown",
      "source": [
        "#### Basic Operation"
      ],
      "metadata": {
        "id": "TRuFyN5eriU-"
      }
    },
    {
      "cell_type": "code",
      "source": [
        "tensor = torch.tensor([1,2,3])\n",
        "print(tensor + 10)\n",
        "print(tensor - 10)\n",
        "print(tensor * 10)"
      ],
      "metadata": {
        "colab": {
          "base_uri": "https://localhost:8080/"
        },
        "id": "f3MajiJRqkTB",
        "outputId": "3d80028a-e6a7-4066-e30d-071ca253ce80"
      },
      "execution_count": 17,
      "outputs": [
        {
          "output_type": "stream",
          "name": "stdout",
          "text": [
            "tensor([11, 12, 13])\n",
            "tensor([-9, -8, -7])\n",
            "tensor([10, 20, 30])\n"
          ]
        }
      ]
    },
    {
      "cell_type": "code",
      "source": [
        "torch.multiply(tensor, 5)"
      ],
      "metadata": {
        "colab": {
          "base_uri": "https://localhost:8080/"
        },
        "id": "EVylx4B5rKGA",
        "outputId": "6c1ccdce-d892-48f3-9e6e-dd3fe3b64640"
      },
      "execution_count": 18,
      "outputs": [
        {
          "output_type": "execute_result",
          "data": {
            "text/plain": [
              "tensor([ 5, 10, 15])"
            ]
          },
          "metadata": {},
          "execution_count": 18
        }
      ]
    },
    {
      "cell_type": "code",
      "source": [
        "#element wise multiplication\n",
        "tensor * tensor"
      ],
      "metadata": {
        "colab": {
          "base_uri": "https://localhost:8080/"
        },
        "id": "KiMQGxLhr89m",
        "outputId": "e3bf7145-760d-4f45-b4c1-c5b13eb9902c"
      },
      "execution_count": 19,
      "outputs": [
        {
          "output_type": "execute_result",
          "data": {
            "text/plain": [
              "tensor([1, 4, 9])"
            ]
          },
          "metadata": {},
          "execution_count": 19
        }
      ]
    },
    {
      "cell_type": "code",
      "source": [
        "# matrix multiplication\n",
        "#method 1\n",
        "print(tensor.matmul(tensor))\n",
        "# method 2\n",
        "print(tensor @ tensor)"
      ],
      "metadata": {
        "colab": {
          "base_uri": "https://localhost:8080/"
        },
        "id": "h9F_grufsEV2",
        "outputId": "13e70b55-1dd5-4a52-d6e4-ea2a0eddcf1b"
      },
      "execution_count": 20,
      "outputs": [
        {
          "output_type": "stream",
          "name": "stdout",
          "text": [
            "tensor(14)\n",
            "tensor(14)\n"
          ]
        }
      ]
    },
    {
      "cell_type": "code",
      "source": [
        "a = torch.tensor([[1,2],[3,4]])\n",
        "torch.matmul(a,a)"
      ],
      "metadata": {
        "colab": {
          "base_uri": "https://localhost:8080/"
        },
        "id": "MRsf61Hpsa3o",
        "outputId": "ea5c076e-f4c8-4ad9-ee4d-a7de7119a46b"
      },
      "execution_count": 21,
      "outputs": [
        {
          "output_type": "execute_result",
          "data": {
            "text/plain": [
              "tensor([[ 7, 10],\n",
              "        [15, 22]])"
            ]
          },
          "metadata": {},
          "execution_count": 21
        }
      ]
    },
    {
      "cell_type": "code",
      "source": [
        "# also\n",
        "torch.mm(a,a)"
      ],
      "metadata": {
        "colab": {
          "base_uri": "https://localhost:8080/"
        },
        "id": "ceHtz_6ctdYt",
        "outputId": "0fdd3499-dded-4310-9a22-a970b7ad071a"
      },
      "execution_count": 22,
      "outputs": [
        {
          "output_type": "execute_result",
          "data": {
            "text/plain": [
              "tensor([[ 7, 10],\n",
              "        [15, 22]])"
            ]
          },
          "metadata": {},
          "execution_count": 22
        }
      ]
    },
    {
      "cell_type": "markdown",
      "source": [
        "#### Linear Layers"
      ],
      "metadata": {
        "id": "ITUz1cM3XuoN"
      }
    },
    {
      "cell_type": "code",
      "source": [
        "torch.manual_seed(42)\n",
        "\n",
        "linear = torch.nn.Linear(in_features=2, # number of columns in input matrix/ matches inner dimension of input\n",
        "                         out_features=8 # number of columns in output matrix/ describes outer value\n",
        "                         )\n",
        "linear"
      ],
      "metadata": {
        "id": "NPDb9Po7u9w6",
        "colab": {
          "base_uri": "https://localhost:8080/"
        },
        "outputId": "a74ace55-de5a-4e60-95e8-bf61b272e780"
      },
      "execution_count": 23,
      "outputs": [
        {
          "output_type": "execute_result",
          "data": {
            "text/plain": [
              "Linear(in_features=2, out_features=8, bias=True)"
            ]
          },
          "metadata": {},
          "execution_count": 23
        }
      ]
    },
    {
      "cell_type": "code",
      "source": [
        "f32_tensor = torch.tensor([[1,2],\n",
        "                           [3,4],\n",
        "                           [4,5]],dtype=torch.float32)"
      ],
      "metadata": {
        "id": "lHKFJChcYHVM"
      },
      "execution_count": 24,
      "outputs": []
    },
    {
      "cell_type": "code",
      "source": [
        "f32_tensor.dtype"
      ],
      "metadata": {
        "colab": {
          "base_uri": "https://localhost:8080/"
        },
        "id": "IqXLVTfgYnpb",
        "outputId": "c1a03396-0fc8-491e-9a9b-927a2a367712"
      },
      "execution_count": 25,
      "outputs": [
        {
          "output_type": "execute_result",
          "data": {
            "text/plain": [
              "torch.float32"
            ]
          },
          "metadata": {},
          "execution_count": 25
        }
      ]
    },
    {
      "cell_type": "code",
      "source": [
        "output = linear(f32_tensor)\n",
        "output"
      ],
      "metadata": {
        "colab": {
          "base_uri": "https://localhost:8080/"
        },
        "id": "2sOrW7KKYXCf",
        "outputId": "a936653b-22a0-4a5f-9f33-b8ec86570d11"
      },
      "execution_count": 26,
      "outputs": [
        {
          "output_type": "execute_result",
          "data": {
            "text/plain": [
              "tensor([[ 2.2595,  1.2380, -0.1997,  0.6665, -0.7400,  0.7964,  0.4267,  0.6104],\n",
              "        [ 4.5145,  2.2058, -0.2241,  0.8086, -0.5308,  2.2903,  1.6631,  1.0926],\n",
              "        [ 5.6421,  2.6897, -0.2364,  0.8796, -0.4262,  3.0372,  2.2813,  1.3337]],\n",
              "       grad_fn=<AddmmBackward0>)"
            ]
          },
          "metadata": {},
          "execution_count": 26
        }
      ]
    },
    {
      "cell_type": "code",
      "source": [
        "output.shape"
      ],
      "metadata": {
        "colab": {
          "base_uri": "https://localhost:8080/"
        },
        "id": "pNYbEUAoYcYX",
        "outputId": "b73bc974-3ed1-456b-b23a-e71105197024"
      },
      "execution_count": 27,
      "outputs": [
        {
          "output_type": "execute_result",
          "data": {
            "text/plain": [
              "torch.Size([3, 8])"
            ]
          },
          "metadata": {},
          "execution_count": 27
        }
      ]
    },
    {
      "cell_type": "code",
      "source": [
        "print(output.min())\n",
        "print(output.argmin()) #index of minimum value"
      ],
      "metadata": {
        "colab": {
          "base_uri": "https://localhost:8080/"
        },
        "id": "cbp_LJBEZ_au",
        "outputId": "db3f1fa0-23d9-431c-8273-6f0f88277319"
      },
      "execution_count": 28,
      "outputs": [
        {
          "output_type": "stream",
          "name": "stdout",
          "text": [
            "tensor(-0.7400, grad_fn=<MinBackward1>)\n",
            "tensor(4)\n"
          ]
        }
      ]
    },
    {
      "cell_type": "code",
      "source": [
        "print(output.max())\n",
        "print(output.argmax()) #index of max value"
      ],
      "metadata": {
        "colab": {
          "base_uri": "https://localhost:8080/"
        },
        "id": "EtY6jg4_aUaY",
        "outputId": "45520eff-50cb-40dd-d98a-a3857e30c0d3"
      },
      "execution_count": 29,
      "outputs": [
        {
          "output_type": "stream",
          "name": "stdout",
          "text": [
            "tensor(5.6421, grad_fn=<MaxBackward1>)\n",
            "tensor(16)\n"
          ]
        }
      ]
    },
    {
      "cell_type": "code",
      "source": [
        "output.mean()"
      ],
      "metadata": {
        "colab": {
          "base_uri": "https://localhost:8080/"
        },
        "id": "WTDOy729aXyA",
        "outputId": "5947e4cb-2a34-4903-a04e-d77f2beaf760"
      },
      "execution_count": 30,
      "outputs": [
        {
          "output_type": "execute_result",
          "data": {
            "text/plain": [
              "tensor(1.3366, grad_fn=<MeanBackward0>)"
            ]
          },
          "metadata": {},
          "execution_count": 30
        }
      ]
    },
    {
      "cell_type": "code",
      "source": [
        "output.sum()"
      ],
      "metadata": {
        "colab": {
          "base_uri": "https://localhost:8080/"
        },
        "id": "ihyPm0KfacXC",
        "outputId": "acc65e00-ca5e-49da-b9d4-e896e16891b0"
      },
      "execution_count": 31,
      "outputs": [
        {
          "output_type": "execute_result",
          "data": {
            "text/plain": [
              "tensor(32.0788, grad_fn=<SumBackward0>)"
            ]
          },
          "metadata": {},
          "execution_count": 31
        }
      ]
    },
    {
      "cell_type": "code",
      "source": [
        "output.dtype"
      ],
      "metadata": {
        "colab": {
          "base_uri": "https://localhost:8080/"
        },
        "id": "WW6WrdOYaepj",
        "outputId": "88c6b14c-576f-43e4-b798-5603a12f6026"
      },
      "execution_count": 32,
      "outputs": [
        {
          "output_type": "execute_result",
          "data": {
            "text/plain": [
              "torch.float32"
            ]
          },
          "metadata": {},
          "execution_count": 32
        }
      ]
    },
    {
      "cell_type": "code",
      "source": [
        "output16 = output.type(torch.float16)\n",
        "output16"
      ],
      "metadata": {
        "colab": {
          "base_uri": "https://localhost:8080/"
        },
        "id": "6z6ynSRGbNAx",
        "outputId": "82c1ba78-649f-4802-ce27-873a42ef81d2"
      },
      "execution_count": 33,
      "outputs": [
        {
          "output_type": "execute_result",
          "data": {
            "text/plain": [
              "tensor([[ 2.2598,  1.2383, -0.1997,  0.6665, -0.7397,  0.7964,  0.4268,  0.6104],\n",
              "        [ 4.5156,  2.2051, -0.2241,  0.8086, -0.5308,  2.2910,  1.6631,  1.0928],\n",
              "        [ 5.6406,  2.6895, -0.2363,  0.8794, -0.4263,  3.0371,  2.2812,  1.3340]],\n",
              "       dtype=torch.float16, grad_fn=<ToCopyBackward0>)"
            ]
          },
          "metadata": {},
          "execution_count": 33
        }
      ]
    },
    {
      "cell_type": "code",
      "source": [
        "# Returns a view of the original tensor in a different shape\n",
        "#  but shares the same data as the original tensor.\n",
        "output16.view((12,2)) #done before reshape"
      ],
      "metadata": {
        "colab": {
          "base_uri": "https://localhost:8080/"
        },
        "id": "8eg1vdm1bVTi",
        "outputId": "7e482f2e-62c3-4c61-9c6a-e686a2c84f74"
      },
      "execution_count": 34,
      "outputs": [
        {
          "output_type": "execute_result",
          "data": {
            "text/plain": [
              "tensor([[ 2.2598,  1.2383],\n",
              "        [-0.1997,  0.6665],\n",
              "        [-0.7397,  0.7964],\n",
              "        [ 0.4268,  0.6104],\n",
              "        [ 4.5156,  2.2051],\n",
              "        [-0.2241,  0.8086],\n",
              "        [-0.5308,  2.2910],\n",
              "        [ 1.6631,  1.0928],\n",
              "        [ 5.6406,  2.6895],\n",
              "        [-0.2363,  0.8794],\n",
              "        [-0.4263,  3.0371],\n",
              "        [ 2.2812,  1.3340]], dtype=torch.float16, grad_fn=<ViewBackward0>)"
            ]
          },
          "metadata": {},
          "execution_count": 34
        }
      ]
    },
    {
      "cell_type": "code",
      "source": [
        "# Concatenates a sequence of tensors along\n",
        "# a new dimension (dim), all tensors must be same size.\n",
        "torch.stack((output,output),dim=0)"
      ],
      "metadata": {
        "colab": {
          "base_uri": "https://localhost:8080/"
        },
        "id": "gRWFq0RwbbZ0",
        "outputId": "56f513d8-cd3e-46fa-e416-e6de002fef6d"
      },
      "execution_count": 35,
      "outputs": [
        {
          "output_type": "execute_result",
          "data": {
            "text/plain": [
              "tensor([[[ 2.2595,  1.2380, -0.1997,  0.6665, -0.7400,  0.7964,  0.4267,\n",
              "           0.6104],\n",
              "         [ 4.5145,  2.2058, -0.2241,  0.8086, -0.5308,  2.2903,  1.6631,\n",
              "           1.0926],\n",
              "         [ 5.6421,  2.6897, -0.2364,  0.8796, -0.4262,  3.0372,  2.2813,\n",
              "           1.3337]],\n",
              "\n",
              "        [[ 2.2595,  1.2380, -0.1997,  0.6665, -0.7400,  0.7964,  0.4267,\n",
              "           0.6104],\n",
              "         [ 4.5145,  2.2058, -0.2241,  0.8086, -0.5308,  2.2903,  1.6631,\n",
              "           1.0926],\n",
              "         [ 5.6421,  2.6897, -0.2364,  0.8796, -0.4262,  3.0372,  2.2813,\n",
              "           1.3337]]], grad_fn=<StackBackward0>)"
            ]
          },
          "metadata": {},
          "execution_count": 35
        }
      ]
    },
    {
      "cell_type": "code",
      "source": [
        "torch.stack((output,output),dim=1)"
      ],
      "metadata": {
        "colab": {
          "base_uri": "https://localhost:8080/"
        },
        "id": "ujCQlgJUcCzL",
        "outputId": "f9e2d5bb-905d-4bc9-f9b9-13590108ff94"
      },
      "execution_count": 36,
      "outputs": [
        {
          "output_type": "execute_result",
          "data": {
            "text/plain": [
              "tensor([[[ 2.2595,  1.2380, -0.1997,  0.6665, -0.7400,  0.7964,  0.4267,\n",
              "           0.6104],\n",
              "         [ 2.2595,  1.2380, -0.1997,  0.6665, -0.7400,  0.7964,  0.4267,\n",
              "           0.6104]],\n",
              "\n",
              "        [[ 4.5145,  2.2058, -0.2241,  0.8086, -0.5308,  2.2903,  1.6631,\n",
              "           1.0926],\n",
              "         [ 4.5145,  2.2058, -0.2241,  0.8086, -0.5308,  2.2903,  1.6631,\n",
              "           1.0926]],\n",
              "\n",
              "        [[ 5.6421,  2.6897, -0.2364,  0.8796, -0.4262,  3.0372,  2.2813,\n",
              "           1.3337],\n",
              "         [ 5.6421,  2.6897, -0.2364,  0.8796, -0.4262,  3.0372,  2.2813,\n",
              "           1.3337]]], grad_fn=<StackBackward0>)"
            ]
          },
          "metadata": {},
          "execution_count": 36
        }
      ]
    },
    {
      "cell_type": "code",
      "source": [
        "torch.stack((output,output),dim=2)"
      ],
      "metadata": {
        "colab": {
          "base_uri": "https://localhost:8080/"
        },
        "id": "N3yU4UmRcTKc",
        "outputId": "e34b6ed4-f38b-4262-aac9-8c207de732f6"
      },
      "execution_count": 37,
      "outputs": [
        {
          "output_type": "execute_result",
          "data": {
            "text/plain": [
              "tensor([[[ 2.2595,  2.2595],\n",
              "         [ 1.2380,  1.2380],\n",
              "         [-0.1997, -0.1997],\n",
              "         [ 0.6665,  0.6665],\n",
              "         [-0.7400, -0.7400],\n",
              "         [ 0.7964,  0.7964],\n",
              "         [ 0.4267,  0.4267],\n",
              "         [ 0.6104,  0.6104]],\n",
              "\n",
              "        [[ 4.5145,  4.5145],\n",
              "         [ 2.2058,  2.2058],\n",
              "         [-0.2241, -0.2241],\n",
              "         [ 0.8086,  0.8086],\n",
              "         [-0.5308, -0.5308],\n",
              "         [ 2.2903,  2.2903],\n",
              "         [ 1.6631,  1.6631],\n",
              "         [ 1.0926,  1.0926]],\n",
              "\n",
              "        [[ 5.6421,  5.6421],\n",
              "         [ 2.6897,  2.6897],\n",
              "         [-0.2364, -0.2364],\n",
              "         [ 0.8796,  0.8796],\n",
              "         [-0.4262, -0.4262],\n",
              "         [ 3.0372,  3.0372],\n",
              "         [ 2.2813,  2.2813],\n",
              "         [ 1.3337,  1.3337]]], grad_fn=<StackBackward0>)"
            ]
          },
          "metadata": {},
          "execution_count": 37
        }
      ]
    },
    {
      "cell_type": "code",
      "source": [
        "output_int = output.type(torch.int8)\n",
        "output_int"
      ],
      "metadata": {
        "colab": {
          "base_uri": "https://localhost:8080/"
        },
        "id": "FAn_Sn6ecbTV",
        "outputId": "126e2b70-f519-4967-b32b-2055b2a00bbf"
      },
      "execution_count": 38,
      "outputs": [
        {
          "output_type": "execute_result",
          "data": {
            "text/plain": [
              "tensor([[2, 1, 0, 0, 0, 0, 0, 0],\n",
              "        [4, 2, 0, 0, 0, 2, 1, 1],\n",
              "        [5, 2, 0, 0, 0, 3, 2, 1]], dtype=torch.int8)"
            ]
          },
          "metadata": {},
          "execution_count": 38
        }
      ]
    },
    {
      "cell_type": "code",
      "source": [
        "# Squeezes input to remove all the dimenions with value 1.\n",
        "x = torch.ones(2,1,2,1)\n",
        "print(x)\n",
        "y = torch.squeeze(x)\n",
        "#If the tensor has a batch dimension of size 1,\n",
        "# then squeeze(input) will also remove the batch dimension,\n",
        "#  which can lead to unexpected errors. Consider specifying\n",
        "# only the dims you wish to be squeezed.\n",
        "print(y)"
      ],
      "metadata": {
        "colab": {
          "base_uri": "https://localhost:8080/"
        },
        "id": "35Q9E6hocm7d",
        "outputId": "c3b2a7ee-2902-474f-c51d-87ed6afcb371"
      },
      "execution_count": 39,
      "outputs": [
        {
          "output_type": "stream",
          "name": "stdout",
          "text": [
            "tensor([[[[1.],\n",
            "          [1.]]],\n",
            "\n",
            "\n",
            "        [[[1.],\n",
            "          [1.]]]])\n",
            "tensor([[1., 1.],\n",
            "        [1., 1.]])\n"
          ]
        }
      ]
    },
    {
      "cell_type": "code",
      "source": [
        "torch.unsqueeze(x,dim=0)#\tReturns input with a dimension value of 1 added at dim.\n",
        "# A dim value within the range [-input.dim() - 1, input.dim() + 1) can be used.\n",
        "# Negative dim will correspond to unsqueeze() applied at dim = dim + input.dim() + 1."
      ],
      "metadata": {
        "colab": {
          "base_uri": "https://localhost:8080/"
        },
        "id": "We-0YdbqcuT1",
        "outputId": "195baebb-cec3-40e1-afcb-fca431d800ff"
      },
      "execution_count": 40,
      "outputs": [
        {
          "output_type": "execute_result",
          "data": {
            "text/plain": [
              "tensor([[[[[1.],\n",
              "           [1.]]],\n",
              "\n",
              "\n",
              "         [[[1.],\n",
              "           [1.]]]]])"
            ]
          },
          "metadata": {},
          "execution_count": 40
        }
      ]
    },
    {
      "cell_type": "code",
      "source": [
        "print(\"a:\" ,a)\n",
        "b = torch.tensor([[4,5],[6,7]])\n",
        "print(\"b:\", b)\n",
        "print()\n",
        "c = torch.stack([a,b])\n",
        "c"
      ],
      "metadata": {
        "colab": {
          "base_uri": "https://localhost:8080/"
        },
        "id": "J-00esACd7Pp",
        "outputId": "743790cb-56e8-4428-80d1-e03f400dcb46"
      },
      "execution_count": 41,
      "outputs": [
        {
          "output_type": "stream",
          "name": "stdout",
          "text": [
            "a: tensor([[1, 2],\n",
            "        [3, 4]])\n",
            "b: tensor([[4, 5],\n",
            "        [6, 7]])\n",
            "\n"
          ]
        },
        {
          "output_type": "execute_result",
          "data": {
            "text/plain": [
              "tensor([[[1, 2],\n",
              "         [3, 4]],\n",
              "\n",
              "        [[4, 5],\n",
              "         [6, 7]]])"
            ]
          },
          "metadata": {},
          "execution_count": 41
        }
      ]
    },
    {
      "cell_type": "code",
      "source": [
        "# Returns a view of the original input with its dimensions permuted (rearranged) to dims.\n",
        "# dims (tuple of int) – The desired ordering of dimensions\n",
        "\n",
        "torch.permute(a,dims=[1,0]) # shifts axis 0->1, 1->0"
      ],
      "metadata": {
        "colab": {
          "base_uri": "https://localhost:8080/"
        },
        "id": "xhz4YtBafC5a",
        "outputId": "b6120077-8a30-43bf-8eb9-592e68a7aadb"
      },
      "execution_count": 42,
      "outputs": [
        {
          "output_type": "execute_result",
          "data": {
            "text/plain": [
              "tensor([[1, 3],\n",
              "        [2, 4]])"
            ]
          },
          "metadata": {},
          "execution_count": 42
        }
      ]
    },
    {
      "cell_type": "code",
      "source": [
        "c.shape"
      ],
      "metadata": {
        "colab": {
          "base_uri": "https://localhost:8080/"
        },
        "id": "Fp0nBENEgvu3",
        "outputId": "2eaf04ce-596c-4048-a6b8-a4b60d08e89e"
      },
      "execution_count": 43,
      "outputs": [
        {
          "output_type": "execute_result",
          "data": {
            "text/plain": [
              "torch.Size([2, 2, 2])"
            ]
          },
          "metadata": {},
          "execution_count": 43
        }
      ]
    },
    {
      "cell_type": "code",
      "source": [
        "torch.permute(c,dims=[1,0,2])"
      ],
      "metadata": {
        "colab": {
          "base_uri": "https://localhost:8080/"
        },
        "id": "zpLu9-drfGXk",
        "outputId": "d625b757-410c-4432-9d89-e253b217ca83"
      },
      "execution_count": 44,
      "outputs": [
        {
          "output_type": "execute_result",
          "data": {
            "text/plain": [
              "tensor([[[1, 2],\n",
              "         [4, 5]],\n",
              "\n",
              "        [[3, 4],\n",
              "         [6, 7]]])"
            ]
          },
          "metadata": {},
          "execution_count": 44
        }
      ]
    },
    {
      "cell_type": "markdown",
      "source": [
        "#### Indexing"
      ],
      "metadata": {
        "id": "r1jlop1diOG7"
      }
    },
    {
      "cell_type": "code",
      "source": [
        "c[:]"
      ],
      "metadata": {
        "colab": {
          "base_uri": "https://localhost:8080/"
        },
        "id": "esehaEWhgyT7",
        "outputId": "b5fddf5e-c4f2-4002-d228-58c37733beaf"
      },
      "execution_count": 45,
      "outputs": [
        {
          "output_type": "execute_result",
          "data": {
            "text/plain": [
              "tensor([[[1, 2],\n",
              "         [3, 4]],\n",
              "\n",
              "        [[4, 5],\n",
              "         [6, 7]]])"
            ]
          },
          "metadata": {},
          "execution_count": 45
        }
      ]
    },
    {
      "cell_type": "code",
      "source": [
        "c[1]"
      ],
      "metadata": {
        "colab": {
          "base_uri": "https://localhost:8080/"
        },
        "id": "L54hUjIbiRy5",
        "outputId": "30479750-8502-4a28-9136-d2c915678649"
      },
      "execution_count": 46,
      "outputs": [
        {
          "output_type": "execute_result",
          "data": {
            "text/plain": [
              "tensor([[4, 5],\n",
              "        [6, 7]])"
            ]
          },
          "metadata": {},
          "execution_count": 46
        }
      ]
    },
    {
      "cell_type": "code",
      "source": [
        "c[0,0]"
      ],
      "metadata": {
        "colab": {
          "base_uri": "https://localhost:8080/"
        },
        "id": "XEMH1DIjiTlH",
        "outputId": "a23c512e-ae24-4e3b-e257-16ddb3088446"
      },
      "execution_count": 47,
      "outputs": [
        {
          "output_type": "execute_result",
          "data": {
            "text/plain": [
              "tensor([1, 2])"
            ]
          },
          "metadata": {},
          "execution_count": 47
        }
      ]
    },
    {
      "cell_type": "code",
      "source": [],
      "metadata": {
        "id": "Qz3yL51NixFB"
      },
      "execution_count": 47,
      "outputs": []
    }
  ]
}