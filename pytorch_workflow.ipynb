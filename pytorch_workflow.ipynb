{
 "cells": [
  {
   "cell_type": "code",
   "execution_count": 1,
   "metadata": {
    "id": "Vuj4Kx4U7cgo"
   },
   "outputs": [],
   "source": [
    "import torch\n",
    "import matplotlib.pyplot as plt"
   ]
  },
  {
   "cell_type": "markdown",
   "metadata": {
    "id": "sKwPaxJG8JVy"
   },
   "source": [
    "#### Data Creation"
   ]
  },
  {
   "cell_type": "code",
   "execution_count": 3,
   "metadata": {
    "colab": {
     "base_uri": "https://localhost:8080/"
    },
    "id": "FEO1G0WK74Eg",
    "outputId": "eb8f1500-2561-4a6b-f38b-29b14bab8396"
   },
   "outputs": [
    {
     "data": {
      "text/plain": [
       "(tensor([[0.0000],\n",
       "         [0.0200],\n",
       "         [0.0400],\n",
       "         [0.0600],\n",
       "         [0.0800],\n",
       "         [0.1000],\n",
       "         [0.1200],\n",
       "         [0.1400],\n",
       "         [0.1600],\n",
       "         [0.1800]]),\n",
       " tensor([[0.3000],\n",
       "         [0.3140],\n",
       "         [0.3280],\n",
       "         [0.3420],\n",
       "         [0.3560],\n",
       "         [0.3700],\n",
       "         [0.3840],\n",
       "         [0.3980],\n",
       "         [0.4120],\n",
       "         [0.4260]]))"
      ]
     },
     "execution_count": 3,
     "metadata": {},
     "output_type": "execute_result"
    }
   ],
   "source": [
    "weight = 0.7\n",
    "bias = 0.3\n",
    "\n",
    "start = 0\n",
    "end = 1\n",
    "step = 0.02\n",
    "X = torch.arange(start,end,step).unsqueeze(dim=1)\n",
    "y = weight*X + bias\n",
    "X[:10], y[:10]"
   ]
  },
  {
   "cell_type": "markdown",
   "metadata": {
    "id": "OTN6y4ZJ8fs9"
   },
   "source": [
    "#### Split data into training and test sets"
   ]
  },
  {
   "cell_type": "code",
   "execution_count": 4,
   "metadata": {
    "colab": {
     "base_uri": "https://localhost:8080/"
    },
    "id": "zYMGDV2E8Zym",
    "outputId": "d92aaf6e-17bc-4fd8-8a13-bfe82e523420"
   },
   "outputs": [
    {
     "data": {
      "text/plain": [
       "(40, 40, 10, 10)"
      ]
     },
     "execution_count": 4,
     "metadata": {},
     "output_type": "execute_result"
    }
   ],
   "source": [
    "train_split = int(0.8 * len(X))\n",
    "X_train, y_train = X[:train_split], y[:train_split]\n",
    "X_test,y_test = X[train_split:], y[train_split:]\n",
    "len(X_train), len(y_train), len(X_test), len(y_test)"
   ]
  },
  {
   "cell_type": "markdown",
   "metadata": {
    "id": "_Zj5Xix39LtJ"
   },
   "source": [
    "#### Visualization of data"
   ]
  },
  {
   "cell_type": "code",
   "execution_count": 5,
   "metadata": {
    "id": "KyIkLqqV9JDn"
   },
   "outputs": [],
   "source": [
    "def plot_predictions(train_data, train_labels, test_data, test_labels, predictions=None):\n",
    "    plt.scatter(train_data, train_labels, c='b',label='Training Data')\n",
    "    plt.scatter(test_data, test_labels, c='g',label= 'Test Data')\n",
    "    if predictions is not None:\n",
    "        plt.scatter(test_data,predictions, c='r',label= 'Predictions')\n",
    "    plt.legend(prop={'size':14})"
   ]
  },
  {
   "cell_type": "code",
   "execution_count": 6,
   "metadata": {
    "colab": {
     "base_uri": "https://localhost:8080/",
     "height": 430
    },
    "id": "qu8sUjtI919r",
    "outputId": "87f1811e-a5e8-42ba-d551-c49cbd76ced3"
   },
   "outputs": [
    {
     "data": {
      "image/png": "[encoded data removed]",
      "text/plain": [
       "<Figure size 640x480 with 1 Axes>"
      ]
     },
     "metadata": {},
     "output_type": "display_data"
    }
   ],
   "source": [
    "plot_predictions(X_train, y_train, X_test, y_test)"
   ]
  },
  {
   "cell_type": "markdown",
   "metadata": {
    "id": "aushcz-Z-Ebw"
   },
   "source": [
    "#### Building a Line Predictor (Linear Regression Model)"
   ]
  },
  {
   "cell_type": "code",
   "execution_count": 7,
   "metadata": {
    "id": "9m6GLR-I98dN"
   },
   "outputs": [],
   "source": [
    "class LinearRegressionModel(torch.nn.Module):\n",
    "    def __init__(self):\n",
    "        super().__init__()\n",
    "        self.weights = torch.nn.Parameter(torch.randn(1, dtype=torch.float), #random number initialization\n",
    "                                          requires_grad=True) # gradient descent for update\n",
    "        self.bias = torch.nn.Parameter(torch.randn(1, dtype=torch.float), requires_grad=True)\n",
    "\n",
    "    def forward(self, x:torch.Tensor) -> torch.Tensor:\n",
    "        return self.weights * x + self.bias"
   ]
  },
  {
   "cell_type": "markdown",
   "metadata": {
    "id": "bs50Tt-HGr6_"
   },
   "source": [
    "#### Details of Pytorch Model"
   ]
  },
  {
   "cell_type": "code",
   "execution_count": 8,
   "metadata": {
    "colab": {
     "base_uri": "https://localhost:8080/"
    },
    "id": "ZZipFaG7-8Mi",
    "outputId": "7d8dc07e-8b69-45ec-afa6-ecd28536acb4"
   },
   "outputs": [
    {
     "data": {
      "text/plain": [
       "[Parameter containing:\n",
       " tensor([0.3367], requires_grad=True),\n",
       " Parameter containing:\n",
       " tensor([0.1288], requires_grad=True)]"
      ]
     },
     "execution_count": 8,
     "metadata": {},
     "output_type": "execute_result"
    }
   ],
   "source": [
    "torch.manual_seed(42)\n",
    "model = LinearRegressionModel()\n",
    "\n",
    "list(model.parameters())"
   ]
  },
  {
   "cell_type": "code",
   "execution_count": 9,
   "metadata": {
    "colab": {
     "base_uri": "https://localhost:8080/"
    },
    "id": "5HVon_ljG18u",
    "outputId": "ecaead25-50f4-4e20-a244-c7a838ce9c84"
   },
   "outputs": [
    {
     "data": {
      "text/plain": [
       "OrderedDict([('weights', tensor([0.3367])), ('bias', tensor([0.1288]))])"
      ]
     },
     "execution_count": 9,
     "metadata": {},
     "output_type": "execute_result"
    }
   ],
   "source": [
    "model.state_dict()"
   ]
  },
  {
   "cell_type": "markdown",
   "metadata": {
    "id": "hYZQPFsNHC4z"
   },
   "source": [
    "#### Making Predictions"
   ]
  },
  {
   "cell_type": "markdown",
   "metadata": {
    "id": "Urt6St12HWvd"
   },
   "source": [
    "As the name suggests, torch.inference_mode() is used when using a model for inference (making predictions).\n",
    "\n",
    "torch.inference_mode() turns off a bunch of things (like gradient tracking, which is necessary for training but not for inference) to make forward-passes (data going through the forward() method) faster.\n",
    "\n",
    "In older PyTorch code, you may also see torch.no_grad() being used for inference. While torch.inference_mode() and torch.no_grad() do similar things, torch.inference_mode() is newer, potentially faster and preferred."
   ]
  },
  {
   "cell_type": "code",
   "execution_count": 10,
   "metadata": {
    "id": "272QIkASG7NJ"
   },
   "outputs": [],
   "source": [
    "with torch.inference_mode():\n",
    "    y_preds = model(X_test)"
   ]
  },
  {
   "cell_type": "code",
   "execution_count": 11,
   "metadata": {
    "colab": {
     "base_uri": "https://localhost:8080/"
    },
    "id": "n9Hj9OGyHOJe",
    "outputId": "f2d93e6d-902e-4239-9fb5-e7f5a116e03b"
   },
   "outputs": [
    {
     "data": {
      "text/plain": [
       "10"
      ]
     },
     "execution_count": 11,
     "metadata": {},
     "output_type": "execute_result"
    }
   ],
   "source": [
    "len(y_preds)"
   ]
  },
  {
   "cell_type": "code",
   "execution_count": 12,
   "metadata": {
    "colab": {
     "base_uri": "https://localhost:8080/",
     "height": 430
    },
    "id": "SpvzltOoHslW",
    "outputId": "4743669e-b3c5-4e44-d816-96fd206b71fa"
   },
   "outputs": [
    {
     "data": {
      "image/png": "[encoded data removed]",
      "text/plain": [
       "<Figure size 640x480 with 1 Axes>"
      ]
     },
     "metadata": {},
     "output_type": "display_data"
    }
   ],
   "source": [
    "plot_predictions(X_train,y_train, X_test, y_test, y_preds)"
   ]
  },
  {
   "cell_type": "markdown",
   "metadata": {
    "id": "oroLOcLHH-AK"
   },
   "source": [
    "#### **Training Model**"
   ]
  },
  {
   "cell_type": "markdown",
   "metadata": {
    "id": "qBiHtkQUINGP"
   },
   "source": [
    " *Creating a Loss Function and Optimizer*\n",
    "\n",
    " Loss Functions: calculates error\n",
    "\n",
    " Optimizer: Function for update of weights and biases to lower the losses\n"
   ]
  },
  {
   "cell_type": "markdown",
   "metadata": {
    "id": "MveLJ2CNKAuL"
   },
   "source": [
    " torch.nn.L1Loss = Mean Absolute Error\n",
    "\n",
    " torch.optim.SGD(params, lr) = Stochastic Gradient Descent (optimizer)\n",
    "\n",
    " params is the target model parameters you'd like to optimize\n",
    "  (e.g. the weights and bias values we randomly set before).\n",
    "\n",
    "  lr is the hyperparamete, learning rate you'd like the optimizer to update the parameters at,"
   ]
  },
  {
   "cell_type": "code",
   "execution_count": 14,
   "metadata": {
    "id": "QQltE6e6JTjr"
   },
   "outputs": [],
   "source": [
    "loss_function = torch.nn.L1Loss()\n",
    "optimizer = torch.optim.SGD(params= model.parameters(), lr = 0.01)"
   ]
  },
  {
   "cell_type": "markdown",
   "metadata": {
    "id": "LY2ZnSrcJ-3t"
   },
   "source": [
    "**Training Loop Steps**\n",
    "\n",
    "- Forward Pass\n",
    "    - The model goes through all of the training data once, performing its forward() function calculations.\n",
    "\n",
    "- Calculate Loss\n",
    "    - The model's outputs (predictions) are compared to the ground truth and evaluated to see how wrong they are.\n",
    "\n",
    "- Zero Gradients\n",
    "    - The optimizers gradients are set to zero (they are accumulated by default) so they can be recalculated for the specific training step.\n",
    "\n",
    "- Perform Backpropagation Loss\n",
    "    - Computes the gradient of the loss with respect for every model parameter to be updated (each parameter with requires_grad=True). This is known as backpropagation, hence \"backwards\".\n",
    "\n",
    "- Update the optimizer(gradient descent)\n",
    "    - Update the parameters with requires_grad=True with respect to the loss gradients in order to improve them."
   ]
  },
  {
   "cell_type": "markdown",
   "metadata": {
    "id": "0OtunIf0LTMT"
   },
   "source": [
    "**Testing Loop Steps**\n",
    "\n",
    "- Forward Pass\n",
    "    - The model goes through all of the training data once, performing its forward() function calculations.\n",
    "\n",
    "- Calculate the loss\n",
    "    - The model's outputs (predictions) are compared to the ground truth and evaluated to see how wrong they are.\n",
    "\n",
    "- Calculate Evaluation Metrics\n",
    "    - Alongisde the loss value you may want to calculate other evaluation metrics such as accuracy on the test set."
   ]
  },
  {
   "cell_type": "code",
   "execution_count": 15,
   "metadata": {
    "colab": {
     "base_uri": "https://localhost:8080/"
    },
    "id": "su6ufz_wJdiV",
    "outputId": "f5d50fd4-e54f-4d7c-b825-6a2a895817e8"
   },
   "outputs": [
    {
     "name": "stdout",
     "output_type": "stream",
     "text": [
      "Epoch: 0 | Trainig Loss (MAE): 0.31288138031959534 | Test Loss (MAE): 0.48106518387794495\n",
      "Epoch: 10 | Trainig Loss (MAE): 0.1976713240146637 | Test Loss (MAE): 0.3463551998138428\n",
      "Epoch: 20 | Trainig Loss (MAE): 0.08908725529909134 | Test Loss (MAE): 0.21729660034179688\n",
      "Epoch: 30 | Trainig Loss (MAE): 0.053148526698350906 | Test Loss (MAE): 0.14464017748832703\n",
      "Epoch: 40 | Trainig Loss (MAE): 0.04543796554207802 | Test Loss (MAE): 0.11360953003168106\n",
      "Epoch: 50 | Trainig Loss (MAE): 0.04167863354086876 | Test Loss (MAE): 0.09919948130846024\n",
      "Epoch: 60 | Trainig Loss (MAE): 0.03818932920694351 | Test Loss (MAE): 0.08886633068323135\n",
      "Epoch: 70 | Trainig Loss (MAE): 0.03476089984178543 | Test Loss (MAE): 0.0805937647819519\n",
      "Epoch: 80 | Trainig Loss (MAE): 0.03132382780313492 | Test Loss (MAE): 0.07232122868299484\n",
      "Epoch: 90 | Trainig Loss (MAE): 0.02788739837706089 | Test Loss (MAE): 0.06473556160926819\n"
     ]
    }
   ],
   "source": [
    "torch.manual_seed(42)\n",
    "\n",
    "epochs = 100\n",
    "\n",
    "train_loss_values = []\n",
    "test_loss_values = []\n",
    "epoch_count = []\n",
    "\n",
    "for epoch in range(epochs):\n",
    "\n",
    "    model.train() #Put model in training mode (this is the default state of a model)\n",
    "    y_pred = model(X_train)\n",
    "    loss = loss_function(y_pred, y_train)\n",
    "    optimizer.zero_grad()\n",
    "    loss.backward()\n",
    "    optimizer.step()\n",
    "    model.eval()\n",
    "\n",
    "    with torch.inference_mode():\n",
    "        test_pred = model(X_test)\n",
    "        test_loss = loss_function(test_pred, y_test.type(torch.float))\n",
    "\n",
    "        if epoch %10 ==0:\n",
    "            epoch_count.append(epoch)\n",
    "            train_loss_values.append(loss.detach().numpy())\n",
    "            test_loss_values.append(test_loss.detach().numpy())\n",
    "            print(f'Epoch: {epoch} | Trainig Loss (MAE): {loss} | Test Loss (MAE): {test_loss}')"
   ]
  },
  {
   "cell_type": "code",
   "execution_count": 16,
   "metadata": {
    "colab": {
     "base_uri": "https://localhost:8080/",
     "height": 489
    },
    "id": "mbBaYkxTM02-",
    "outputId": "45436fde-f9d0-4f82-ed22-ceaa894b8555"
   },
   "outputs": [
    {
     "data": {
      "text/plain": [
       "<matplotlib.legend.Legend at 0x78f0ed14be50>"
      ]
     },
     "execution_count": 16,
     "metadata": {},
     "output_type": "execute_result"
    },
    {
     "data": {
      "image/png": "[encoded data removed]",
      "text/plain": [
       "<Figure size 640x480 with 1 Axes>"
      ]
     },
     "metadata": {},
     "output_type": "display_data"
    }
   ],
   "source": [
    "plt.plot(epoch_count, train_loss_values, label='Train Loss')\n",
    "plt.plot(epoch_count, test_loss_values, label = 'Test Loss')\n",
    "plt.title('Training and Test Loss Curves')\n",
    "plt.ylabel('loss')\n",
    "plt.xlabel('epochs')\n",
    "plt.legend()"
   ]
  },
  {
   "cell_type": "code",
   "execution_count": 18,
   "metadata": {
    "colab": {
     "base_uri": "https://localhost:8080/"
    },
    "id": "_CIQmpx5NNRg",
    "outputId": "dd60d965-9b63-4e01-9bd8-d62907f902bd"
   },
   "outputs": [
    {
     "data": {
      "text/plain": [
       "OrderedDict([('weights', tensor([0.5784])), ('bias', tensor([0.3513]))])"
      ]
     },
     "execution_count": 18,
     "metadata": {},
     "output_type": "execute_result"
    }
   ],
   "source": [
    "# current learned parameters of weights and biases\n",
    "# dataset had values as weights = 0.7 and bias = 0.3\n",
    "model.state_dict()"
   ]
  },
  {
   "cell_type": "markdown",
   "metadata": {
    "id": "jKas8xMjNqKm"
   },
   "source": [
    "#### Making Predictions"
   ]
  },
  {
   "cell_type": "code",
   "execution_count": 19,
   "metadata": {
    "colab": {
     "base_uri": "https://localhost:8080/"
    },
    "id": "ZmXfpDLfNbwM",
    "outputId": "cc1624b8-2664-416f-9f58-52d3ae330d19"
   },
   "outputs": [
    {
     "data": {
      "text/plain": [
       "tensor([[0.8141],\n",
       "        [0.8256],\n",
       "        [0.8372],\n",
       "        [0.8488],\n",
       "        [0.8603],\n",
       "        [0.8719],\n",
       "        [0.8835],\n",
       "        [0.8950],\n",
       "        [0.9066],\n",
       "        [0.9182]])"
      ]
     },
     "execution_count": 19,
     "metadata": {},
     "output_type": "execute_result"
    }
   ],
   "source": [
    "model.eval() # set the model in evaluation mode\n",
    "\n",
    "with torch.inference_mode():\n",
    "    y_preds = model(X_test)\n",
    "y_preds"
   ]
  },
  {
   "cell_type": "code",
   "execution_count": 20,
   "metadata": {
    "colab": {
     "base_uri": "https://localhost:8080/",
     "height": 430
    },
    "id": "0KrTKRCcN4fr",
    "outputId": "99b6d58b-de10-4bcb-c847-7f5d22dfae5d"
   },
   "outputs": [
    {
     "data": {
      "image/png": "[encoded data removed]",
      "text/plain": [
       "<Figure size 640x480 with 1 Axes>"
      ]
     },
     "metadata": {},
     "output_type": "display_data"
    }
   ],
   "source": [
    "plot_predictions(X_train,y_train, X_test, y_test, y_preds)"
   ]
  },
  {
   "cell_type": "markdown",
   "metadata": {
    "id": "UaNlKD88OUMh"
   },
   "source": [
    "#### Saving a Pytorch model"
   ]
  },
  {
   "cell_type": "markdown",
   "metadata": {
    "id": "rPxjtmeeOd-1"
   },
   "source": [
    "- torch.save\n",
    "    - Saves a serialized object to disk using Python's pickle utility. Models, tensors and various other Python objects like dictionaries can be saved using torch.save.\n",
    "- torch.load\n",
    "    - Uses pickle's unpickling features to deserialize and load pickled Python object files (like models, tensors or dictionaries) into memory. You can also set which device to load the object to (CPU, GPU etc).\n",
    "- torch.nn.Module.load_state_dict\n",
    "    - Loads a model's parameter dictionary (model.state_dict()) using a saved state_dict() object."
   ]
  },
  {
   "cell_type": "markdown",
   "metadata": {
    "id": "lxaQRwhiP--8"
   },
   "source": [
    "The recommended way for saving and loading a model for inference (making predictions) is by saving and loading a model's state_dict()."
   ]
  },
  {
   "cell_type": "code",
   "execution_count": 21,
   "metadata": {
    "id": "CgtH-HhEN9Ij"
   },
   "outputs": [],
   "source": [
    "from pathlib import Path\n",
    "\n",
    "MODEL_PATH = Path('models')\n",
    "MODEL_PATH.mkdir(parents=True,exist_ok=True)\n",
    "\n",
    "MODEL_NAME = 'o1_pytorch_linear_regression.pth'\n",
    "MODEL_SAVE_PATH = MODEL_PATH/MODEL_NAME\n",
    "\n",
    "torch.save(obj = model.state_dict(), #saving state_dict() i.e. learned parameters\n",
    "           f = MODEL_SAVE_PATH\n",
    ")"
   ]
  },
  {
   "cell_type": "code",
   "execution_count": 22,
   "metadata": {
    "colab": {
     "base_uri": "https://localhost:8080/"
    },
    "id": "mFkf_07rQz0_",
    "outputId": "8c887bae-b363-4fd7-9a9c-f6ce658b4447"
   },
   "outputs": [
    {
     "name": "stdout",
     "output_type": "stream",
     "text": [
      "-rw-r--r-- 1 root root 1686 Jun  9 18:28 models/o1_pytorch_linear_regression.pth\n"
     ]
    }
   ],
   "source": [
    "!ls -l models/o1_pytorch_linear_regression.pth\n"
   ]
  },
  {
   "cell_type": "markdown",
   "metadata": {
    "id": "xTH12sABQt-R"
   },
   "source": [
    "#### Loading Model"
   ]
  },
  {
   "cell_type": "markdown",
   "metadata": {
    "id": "-tLQ2JNFRF2T"
   },
   "source": [
    "we can now load it in using torch.nn.Module.load_state_dict(torch.load(f)) where f is the filepath of our saved model state_dict().\n",
    "\n",
    "because we only saved the model's state_dict() which is a dictionary of learned parameters and not the entire model, we first have to load the state_dict() with torch.load() and then pass that state_dict() to a new instance of our model (which is a subclass of nn.Module)."
   ]
  },
  {
   "cell_type": "code",
   "execution_count": 23,
   "metadata": {
    "colab": {
     "base_uri": "https://localhost:8080/"
    },
    "id": "IrL7wfeOQopJ",
    "outputId": "0e751f80-2b02-4509-d6a8-d021a1d0cc76"
   },
   "outputs": [
    {
     "data": {
      "text/plain": [
       "<All keys matched successfully>"
      ]
     },
     "execution_count": 23,
     "metadata": {},
     "output_type": "execute_result"
    }
   ],
   "source": [
    "loaded_model = LinearRegressionModel()\n",
    "\n",
    "loaded_model.load_state_dict(torch.load(f=MODEL_SAVE_PATH))"
   ]
  },
  {
   "cell_type": "code",
   "execution_count": 24,
   "metadata": {
    "id": "Yp1txqC9RglF"
   },
   "outputs": [],
   "source": [
    "loaded_model.eval()\n",
    "\n",
    "with torch.inference_mode():\n",
    "    loaded_model_preds = loaded_model(X_test)"
   ]
  },
  {
   "cell_type": "code",
   "execution_count": 25,
   "metadata": {
    "colab": {
     "base_uri": "https://localhost:8080/"
    },
    "id": "rzIncufrRsme",
    "outputId": "84f374a9-a3aa-4a13-96ca-0ae3c5b98cf3"
   },
   "outputs": [
    {
     "data": {
      "text/plain": [
       "tensor([[True],\n",
       "        [True],\n",
       "        [True],\n",
       "        [True],\n",
       "        [True],\n",
       "        [True],\n",
       "        [True],\n",
       "        [True],\n",
       "        [True],\n",
       "        [True]])"
      ]
     },
     "execution_count": 25,
     "metadata": {},
     "output_type": "execute_result"
    }
   ],
   "source": [
    "y_preds == loaded_model_preds"
   ]
  },
  {
   "cell_type": "code",
   "execution_count": null,
   "metadata": {
    "id": "gX928N4gRv8w"
   },
   "outputs": [],
   "source": []
  }
 ],
 "metadata": {
  "colab": {
   "provenance": []
  },
  "kernelspec": {
   "display_name": "Python 3",
   "name": "python3"
  },
  "language_info": {
   "name": "python"
  }
 },
 "nbformat": 4,
 "nbformat_minor": 0
}
